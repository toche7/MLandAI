{
  "nbformat": 4,
  "nbformat_minor": 0,
  "metadata": {
    "colab": {
      "provenance": [],
      "authorship_tag": "ABX9TyNyDuJlm12tkWse+DK27hNo",
      "include_colab_link": true
    },
    "kernelspec": {
      "name": "python3",
      "display_name": "Python 3"
    },
    "language_info": {
      "name": "python"
    }
  },
  "cells": [
    {
      "cell_type": "markdown",
      "metadata": {
        "id": "view-in-github",
        "colab_type": "text"
      },
      "source": [
        "<a href=\"https://colab.research.google.com/github/toche7/MLwithPython/blob/main/Lab2_skLearnTree.ipynb\" target=\"_parent\"><img src=\"https://colab.research.google.com/assets/colab-badge.svg\" alt=\"Open In Colab\"/></a>"
      ]
    },
    {
      "cell_type": "markdown",
      "source": [
        "# Lab 2: Decision Tree Model\n",
        "\n",
        "Taweesak Samanchuen\n"
      ],
      "metadata": {
        "id": "AOLx3zfETxN4"
      }
    },
    {
      "cell_type": "markdown",
      "source": [
        "```\n",
        "from sklearn.tree import DecisionTreeClassifier\n",
        "clf = DecisionTreeClassifier(random_state=0)\n",
        "clf.fit(X,y)\n",
        "```"
      ],
      "metadata": {
        "id": "TPc7LQXtKlP4"
      }
    },
    {
      "cell_type": "markdown",
      "source": [
        "| Method | Description |\n",
        "| ------------|------------ |\n",
        "| fit(X, y ) | Build a decision tree classifier from the training set (X, y).|\n",
        "| predict(X) | Predict class or regression value for X. |\n",
        "| score(X, y) | Return the mean accuracy on the given test data and labels.|"
      ],
      "metadata": {
        "id": "GhPc14pIKe64"
      }
    },
    {
      "cell_type": "markdown",
      "source": [
        "\n",
        "## Introduction\n",
        "### Decision Tree Concept\n",
        "\n",
        "<img src = 'https://www.researchgate.net/publication/293194222/figure/fig1/AS:669028842487827@1536520314657/Decision-tree-for-Iris-dataset.png' alt=\"Girl in a jacket\" width=\"350\" height=\"400\">\n",
        "\n",
        "credit: https://www.researchgate.net/publication/293194222_Ontology-Based_Classification_System_Development_Methodology"
      ],
      "metadata": {
        "id": "etSkR6IgMNFO"
      }
    },
    {
      "cell_type": "markdown",
      "source": [
        "### Iris Dataset\n",
        "<img src = https://editor.analyticsvidhya.com/uploads/51518iris%20img1.png>\n",
        "\n",
        "credit: http://www.lac.inpe.br/~rafael.santos/Docs/CAP394/WholeStory-Iris.html\n"
      ],
      "metadata": {
        "id": "6LQ7NqAyU-3N"
      }
    },
    {
      "cell_type": "markdown",
      "source": [
        "## Data Loading"
      ],
      "metadata": {
        "id": "sLKn7OvCMRhB"
      }
    },
    {
      "cell_type": "markdown",
      "source": [
        "**Load Related Library**\n",
        "```python\n",
        "from sklearn.datasets import load_iris\n",
        "from sklearn import tree\n",
        "from sklearn.metrics import confusion_matrix\n",
        "import matplotlib.pyplot as plt\n",
        "import numpy as np\n",
        "```\n",
        "\n"
      ],
      "metadata": {
        "id": "RO5Q2q5qEXHj"
      }
    },
    {
      "cell_type": "code",
      "source": [],
      "metadata": {
        "id": "KNBK051HMllR"
      },
      "execution_count": null,
      "outputs": []
    },
    {
      "cell_type": "markdown",
      "source": [
        "**Load data**\n",
        "``` python\n",
        "iris = load_iris()\n",
        "X, y = iris.data, iris.target\n",
        "```\n",
        "\n"
      ],
      "metadata": {
        "id": "LEufe0OUHcWv"
      }
    },
    {
      "cell_type": "code",
      "source": [],
      "metadata": {
        "id": "jT2JdaIhHcOk"
      },
      "execution_count": null,
      "outputs": []
    },
    {
      "cell_type": "markdown",
      "source": [
        "## Data Exploration Analysis (EDA)"
      ],
      "metadata": {
        "id": "ftSY0K1MNAet"
      }
    },
    {
      "cell_type": "markdown",
      "source": [
        "**Check classes**\n",
        "\n",
        "```\n",
        "cls, count =np.unique(y, return_counts = True)\n",
        "```\n"
      ],
      "metadata": {
        "id": "Y4Z5i7elOrrd"
      }
    },
    {
      "cell_type": "code",
      "source": [],
      "metadata": {
        "id": "N6J8PO68w8OJ"
      },
      "execution_count": null,
      "outputs": []
    },
    {
      "cell_type": "code",
      "source": [],
      "metadata": {
        "id": "fA6Q6w_kPrvT"
      },
      "execution_count": null,
      "outputs": []
    },
    {
      "cell_type": "markdown",
      "source": [
        "**Seabon pairplot**\n",
        "``` python\n",
        "import pandas as pd\n",
        "dfX = pd.DataFrame(X)\n",
        "dfX.columns = [\"Sepal_L\", \"Sepal_W\",\"Petal_L\", \"Petal_W\"]\n",
        "dfX[\"y\"] = y\n",
        "\n",
        "import seaborn as sns\n",
        "sns.pairplot(dfX, hue= \"y\", palette =sns.color_palette(\"hls\",3))\n",
        "```\n",
        "\n"
      ],
      "metadata": {
        "id": "T51zE12ZPB3X"
      }
    },
    {
      "cell_type": "code",
      "source": [],
      "metadata": {
        "id": "qCWu_tsDRqOh"
      },
      "execution_count": null,
      "outputs": []
    },
    {
      "cell_type": "code",
      "source": [],
      "metadata": {
        "id": "E2bY4vQDM6yw"
      },
      "execution_count": null,
      "outputs": []
    },
    {
      "cell_type": "markdown",
      "source": [
        "## Model Training"
      ],
      "metadata": {
        "id": "ZjIHSqKHNQj1"
      }
    },
    {
      "cell_type": "markdown",
      "source": [
        "\n",
        "**Train Model**\n",
        "\n",
        "```python\n",
        "trMod = tree.DecisionTreeClassifier(max_depth = 3)\n",
        "trMod.fit(X, y)\n",
        "trMod.score(X,y)\n",
        "```\n"
      ],
      "metadata": {
        "id": "ilO9hZaTpJCp"
      }
    },
    {
      "cell_type": "code",
      "source": [],
      "metadata": {
        "id": "LBya5uAtRoso"
      },
      "execution_count": null,
      "outputs": []
    },
    {
      "cell_type": "code",
      "source": [],
      "metadata": {
        "id": "pwJSwgr-Jns6"
      },
      "execution_count": null,
      "outputs": []
    },
    {
      "cell_type": "markdown",
      "source": [
        "\n",
        "\n",
        "**Plot Tree Model**\n",
        "``` python\n",
        "plt.figure(figsize=(10,6))\n",
        "tree.plot_tree(trMod)\n",
        "plt.show()\n",
        "```\n"
      ],
      "metadata": {
        "id": "q4IlQQUWJm78"
      }
    },
    {
      "cell_type": "code",
      "source": [],
      "metadata": {
        "id": "4T84Xs7mHnPD"
      },
      "execution_count": null,
      "outputs": []
    },
    {
      "cell_type": "code",
      "source": [],
      "metadata": {
        "id": "sdN9QonVRmt9"
      },
      "execution_count": null,
      "outputs": []
    },
    {
      "cell_type": "markdown",
      "source": [
        "## Performance Evaluation"
      ],
      "metadata": {
        "id": "IA3snt2YNmyI"
      }
    },
    {
      "cell_type": "markdown",
      "source": [
        "**Predition**\n",
        "\n",
        "\n",
        "```\n",
        "y_pred = trMod.predict(X)\n",
        "```\n",
        "\n"
      ],
      "metadata": {
        "id": "PgPGlEk0Q5n0"
      }
    },
    {
      "cell_type": "code",
      "source": [],
      "metadata": {
        "id": "rpc4ao54Ra3p"
      },
      "execution_count": null,
      "outputs": []
    },
    {
      "cell_type": "code",
      "source": [],
      "metadata": {
        "id": "rpotlpOjRaqi"
      },
      "execution_count": null,
      "outputs": []
    },
    {
      "cell_type": "markdown",
      "source": [
        "**Related Library**\n",
        "``` python\n",
        "from sklearn.metrics import confusion_matrix, accuracy_score, f1_score, precision_score, recall_score\n",
        "cm = confusion_matrix(y,y_pred)\n",
        "pre = precision_score(y,y_pred, average = 'macro')\n",
        "rec = recall_score(y,y_pred, average = 'macro')\n",
        "f1 = f1_score(y,y_pred, average = 'macro')\n",
        "```\n",
        "\n"
      ],
      "metadata": {
        "id": "3NhuQh-IN1ZA"
      }
    },
    {
      "cell_type": "code",
      "source": [],
      "metadata": {
        "id": "VQ3pvk5tN-wo"
      },
      "execution_count": null,
      "outputs": []
    },
    {
      "cell_type": "code",
      "source": [],
      "metadata": {
        "id": "J6f83G5KRR6W"
      },
      "execution_count": null,
      "outputs": []
    },
    {
      "cell_type": "markdown",
      "source": [
        "**Plot Confusion Matrix**\n",
        "\n",
        "\n",
        "``` python\n",
        "from sklearn.metrics._plot.confusion_matrix import ConfusionMatrixDisplay\n",
        "disp = ConfusionMatrixDisplay(confusion_matrix = cm, display_labels= [\"Setosa\", \"verginiga\", \"Versiscolor\"])\n",
        "disp.plot()\n",
        "plt.show\n",
        "```\n",
        "\n"
      ],
      "metadata": {
        "id": "M6GpqbL6N_HC"
      }
    },
    {
      "cell_type": "code",
      "source": [],
      "metadata": {
        "id": "CzHqoIRxHm8l"
      },
      "execution_count": null,
      "outputs": []
    },
    {
      "cell_type": "code",
      "source": [],
      "metadata": {
        "id": "yCWPRIxRRj49"
      },
      "execution_count": null,
      "outputs": []
    },
    {
      "cell_type": "markdown",
      "source": [],
      "metadata": {
        "id": "NZwqDw0gO8S-"
      }
    }
  ]
}
