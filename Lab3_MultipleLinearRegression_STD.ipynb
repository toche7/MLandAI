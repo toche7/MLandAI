{
  "cells": [
    {
      "cell_type": "markdown",
      "metadata": {
        "id": "view-in-github",
        "colab_type": "text"
      },
      "source": [
        "<a href=\"https://colab.research.google.com/github/toche7/BasicPy/blob/main/Lab3_MultipleLinearRegression_STD.ipynb\" target=\"_parent\"><img src=\"https://colab.research.google.com/assets/colab-badge.svg\" alt=\"Open In Colab\"/></a>"
      ]
    },
    {
      "cell_type": "markdown",
      "metadata": {
        "collapsed": false,
        "id": "81hf8h2Uenl6"
      },
      "source": [
        "# Lab 3: Multiple Linear Regression"
      ]
    },
    {
      "cell_type": "markdown",
      "metadata": {
        "collapsed": false,
        "id": "NyQzGmdHenl-"
      },
      "source": [
        "Version 001"
      ]
    },
    {
      "cell_type": "markdown",
      "metadata": {
        "collapsed": false,
        "id": "Xr61jmrjenl-"
      },
      "source": [
        "```\n",
        "from sklearn.linear_model import LinearRegression\n",
        "reg = LinearRegression()\n",
        "reg.fit(X, y)\n",
        "```\n",
        "\n"
      ]
    },
    {
      "cell_type": "markdown",
      "metadata": {
        "collapsed": false,
        "id": "H33S8y57enl-"
      },
      "source": [
        "| Method | Description |\n",
        "| ------------|------------ |\n",
        "| fit(X, y ) | Fit linear model. |\n",
        "| predict(X) | Predict using the linear model. |\n",
        "| score(X, y) | Return the coefficient of determination of the prediction.|\n",
        "\n",
        "\n"
      ]
    },
    {
      "cell_type": "markdown",
      "metadata": {
        "collapsed": false,
        "id": "54hZX6-Wenl_"
      },
      "source": [
        "การสร้าง   Multiple Linear Regression จะใช้ library ในการสร้างโมเดลแบบเดียวกับการสร้าง simple linear regression model  \n",
        "แบบ Hypothesis Model ของ Multiple Linear Regression สามารถแสดงได้ดังนี้\n",
        "\n",
        "$$\n",
        "\\hat{y} = \\theta_0 + \\theta_1x_1 + \\theta_2x_2 +...+\\theta_nx_n \\tag{1}\n",
        "$$"
      ]
    },
    {
      "cell_type": "markdown",
      "metadata": {
        "collapsed": false,
        "id": "jj4Led28enl_"
      },
      "source": [
        "## 1. Example MLR with Real Estate Data Set.\n",
        "\n"
      ]
    },
    {
      "cell_type": "markdown",
      "metadata": {
        "collapsed": false,
        "id": "Nm1d1F7cenmA"
      },
      "source": [
        "### 1.1 Exploratory  Data Analysis (EDA)"
      ]
    },
    {
      "cell_type": "code",
      "execution_count": null,
      "metadata": {
        "id": "EBmiofKDenmA"
      },
      "outputs": [],
      "source": [
        "import pandas as pd\n",
        "import numpy as np\n",
        "import matplotlib.pyplot as plt"
      ]
    },
    {
      "cell_type": "markdown",
      "source": [
        "โหลดข้อมูลจากไฟล์ RealEstate.csv"
      ],
      "metadata": {
        "id": "7H871rpnfEGo"
      }
    },
    {
      "cell_type": "code",
      "source": [
        "#!wget https://raw.githubusercontent.com/toche7/DataSets/main/RealEstate.csv"
      ],
      "metadata": {
        "id": "M3nf55BuScqE"
      },
      "execution_count": null,
      "outputs": []
    },
    {
      "cell_type": "code",
      "source": [
        "df = pd.read_csv('https://raw.githubusercontent.com/toche7/DataSets/main/RealEstate.csv')"
      ],
      "metadata": {
        "id": "6nvtsMizfNi4"
      },
      "execution_count": null,
      "outputs": []
    },
    {
      "cell_type": "code",
      "source": [
        "df"
      ],
      "metadata": {
        "id": "7w-mk-W9fNbd"
      },
      "execution_count": null,
      "outputs": []
    },
    {
      "cell_type": "markdown",
      "source": [
        "ตรวจสอบข้อมูลด้วยคำสั่ง info()"
      ],
      "metadata": {
        "id": "-anHa0QSfRDA"
      }
    },
    {
      "cell_type": "code",
      "source": [
        "df.info()"
      ],
      "metadata": {
        "id": "ZLIDu093fa8y"
      },
      "execution_count": null,
      "outputs": []
    },
    {
      "cell_type": "code",
      "source": [
        "df.columns = ['No', 'X1', 'X2', 'X3', 'X4', 'X5', 'X6', 'Y']"
      ],
      "metadata": {
        "id": "Q3y5kpzPfa3m"
      },
      "execution_count": null,
      "outputs": []
    },
    {
      "cell_type": "code",
      "source": [
        "df.head()"
      ],
      "metadata": {
        "id": "B4fDf_0Bfawo"
      },
      "execution_count": null,
      "outputs": []
    },
    {
      "cell_type": "markdown",
      "source": [
        "เปลี่ยนชื่อ column ไปเป็น\n",
        "\n",
        "['no','x1','x2','x3','x4','x5','x6','y']\n",
        "\n",
        "ให้ทำงานง่ายขี้น"
      ],
      "metadata": {
        "id": "2MOUh8y_fc9n"
      }
    },
    {
      "cell_type": "code",
      "source": [],
      "metadata": {
        "id": "ppdAqv_YfqFr"
      },
      "execution_count": null,
      "outputs": []
    },
    {
      "cell_type": "code",
      "source": [],
      "metadata": {
        "id": "9aeYoprofqCQ"
      },
      "execution_count": null,
      "outputs": []
    },
    {
      "cell_type": "code",
      "source": [],
      "metadata": {
        "id": "vQXgD5Zpfp-3"
      },
      "execution_count": null,
      "outputs": []
    },
    {
      "cell_type": "code",
      "source": [],
      "metadata": {
        "id": "dwo2rc5Lfp7V"
      },
      "execution_count": null,
      "outputs": []
    },
    {
      "cell_type": "code",
      "source": [],
      "metadata": {
        "id": "dpaQCSwnfp3g"
      },
      "execution_count": null,
      "outputs": []
    },
    {
      "cell_type": "markdown",
      "source": [
        "ตรวจสอบค่า Correlation ของข้อมูล"
      ],
      "metadata": {
        "id": "J_8AhfEcfriA"
      }
    },
    {
      "cell_type": "code",
      "source": [
        "df.corr()"
      ],
      "metadata": {
        "id": "L0TR9AEkfwDF"
      },
      "execution_count": null,
      "outputs": []
    },
    {
      "cell_type": "code",
      "source": [],
      "metadata": {
        "id": "E-8HcyEPfv_8"
      },
      "execution_count": null,
      "outputs": []
    },
    {
      "cell_type": "code",
      "source": [],
      "metadata": {
        "id": "G08BkhCpfv8q"
      },
      "execution_count": null,
      "outputs": []
    },
    {
      "cell_type": "code",
      "source": [],
      "metadata": {
        "id": "cVI3N7uCfv5x"
      },
      "execution_count": null,
      "outputs": []
    },
    {
      "cell_type": "code",
      "source": [],
      "metadata": {
        "id": "gPtrCAw4fv2V"
      },
      "execution_count": null,
      "outputs": []
    },
    {
      "cell_type": "markdown",
      "source": [
        "แสดงค่า correlation ด้วย heatmap"
      ],
      "metadata": {
        "id": "MRqcKwNmhHiG"
      }
    },
    {
      "cell_type": "code",
      "execution_count": null,
      "metadata": {
        "id": "5_y_WDf8enmD"
      },
      "outputs": [],
      "source": [
        "import seaborn as sns\n",
        "sns.heatmap(df.corr(),cmap=\"YlGnBu\")"
      ]
    },
    {
      "cell_type": "code",
      "source": [],
      "metadata": {
        "id": "fPPXzrKEhPKV"
      },
      "execution_count": null,
      "outputs": []
    },
    {
      "cell_type": "markdown",
      "source": [
        "แสดงภาพความสัมพันธ์แบบ scatter martix"
      ],
      "metadata": {
        "id": "ul9L1ws9hQcG"
      }
    },
    {
      "cell_type": "code",
      "execution_count": null,
      "metadata": {
        "id": "qeYobRjwenmD"
      },
      "outputs": [],
      "source": [
        "sns.pairplot(df)"
      ]
    },
    {
      "cell_type": "code",
      "source": [],
      "metadata": {
        "id": "7ANRPGY0fz1V"
      },
      "execution_count": null,
      "outputs": []
    },
    {
      "cell_type": "code",
      "source": [],
      "metadata": {
        "id": "3Sni7fltfzxm"
      },
      "execution_count": null,
      "outputs": []
    },
    {
      "cell_type": "code",
      "source": [
        "X = df[['X1','X2','X3','X4', 'X5','X6']]"
      ],
      "metadata": {
        "id": "X8ThEFUffztD"
      },
      "execution_count": null,
      "outputs": []
    },
    {
      "cell_type": "code",
      "source": [
        "y = df[['Y']]"
      ],
      "metadata": {
        "id": "XkhG_4Bxfzl-"
      },
      "execution_count": null,
      "outputs": []
    },
    {
      "cell_type": "markdown",
      "metadata": {
        "collapsed": false,
        "id": "dAGzoDjUenmE"
      },
      "source": [
        "### 1.2  Create Model Object and Training"
      ]
    },
    {
      "cell_type": "code",
      "source": [
        "from sklearn.linear_model import LinearRegression"
      ],
      "metadata": {
        "id": "3z0ZpSb2f6Xk"
      },
      "execution_count": null,
      "outputs": []
    },
    {
      "cell_type": "code",
      "source": [
        "mLR = LinearRegression()"
      ],
      "metadata": {
        "id": "69CiRD9yf6T6"
      },
      "execution_count": null,
      "outputs": []
    },
    {
      "cell_type": "code",
      "source": [
        "mLR.fit(X,y)"
      ],
      "metadata": {
        "id": "6wqXqLoIf6QB"
      },
      "execution_count": null,
      "outputs": []
    },
    {
      "cell_type": "code",
      "source": [
        "mLR.score(X,y)"
      ],
      "metadata": {
        "id": "DKM-md_wf6L6"
      },
      "execution_count": null,
      "outputs": []
    },
    {
      "cell_type": "markdown",
      "metadata": {
        "collapsed": false,
        "id": "Qc0B4sYoenmE"
      },
      "source": [
        "### 1.3 Predition and Evaluation"
      ]
    },
    {
      "cell_type": "markdown",
      "metadata": {
        "collapsed": false,
        "id": "vD98jwhHenmF"
      },
      "source": [
        "Predict value of $\\hat{y}$"
      ]
    },
    {
      "cell_type": "code",
      "source": [],
      "metadata": {
        "id": "E05244_Zf9ys"
      },
      "execution_count": null,
      "outputs": []
    },
    {
      "cell_type": "code",
      "source": [],
      "metadata": {
        "id": "p4j2Rbn4f9vK"
      },
      "execution_count": null,
      "outputs": []
    },
    {
      "cell_type": "code",
      "source": [],
      "metadata": {
        "id": "72jsbqKdf9rL"
      },
      "execution_count": null,
      "outputs": []
    },
    {
      "cell_type": "markdown",
      "metadata": {
        "collapsed": false,
        "id": "G9d_fAXWenmF"
      },
      "source": [
        "Calculate the determination coefficient, $R^2$"
      ]
    },
    {
      "cell_type": "code",
      "source": [],
      "metadata": {
        "id": "5w-GWfj7gDo9"
      },
      "execution_count": null,
      "outputs": []
    },
    {
      "cell_type": "code",
      "source": [],
      "metadata": {
        "id": "Cu4N1bvqgDj1"
      },
      "execution_count": null,
      "outputs": []
    },
    {
      "cell_type": "code",
      "source": [],
      "metadata": {
        "id": "lJUt4dbagDg8"
      },
      "execution_count": null,
      "outputs": []
    },
    {
      "cell_type": "code",
      "source": [],
      "metadata": {
        "id": "nZBKJgtBgDdP"
      },
      "execution_count": null,
      "outputs": []
    },
    {
      "cell_type": "markdown",
      "metadata": {
        "collapsed": false,
        "id": "AsBzfypEenmF"
      },
      "source": [
        "Calculate the mean sequare error"
      ]
    },
    {
      "cell_type": "code",
      "execution_count": null,
      "metadata": {
        "id": "cmHmZdZ-enmF"
      },
      "outputs": [],
      "source": [
        "# from sklearn.metrics import mean_squared_error\n",
        "# prediction\n",
        "# mse1 = mean_squared_error(y, predict)"
      ]
    },
    {
      "cell_type": "code",
      "source": [],
      "metadata": {
        "id": "UmkWm8OggSCB"
      },
      "execution_count": null,
      "outputs": []
    },
    {
      "cell_type": "code",
      "source": [],
      "metadata": {
        "id": "NJusoidKgR-I"
      },
      "execution_count": null,
      "outputs": []
    },
    {
      "cell_type": "code",
      "execution_count": null,
      "metadata": {
        "id": "uOf7n-tsenmG"
      },
      "outputs": [],
      "source": []
    },
    {
      "cell_type": "markdown",
      "metadata": {
        "collapsed": false,
        "id": "Bsjwnv_kenmG"
      },
      "source": [
        "### 1.4 Select Feature for Model Development"
      ]
    },
    {
      "cell_type": "code",
      "source": [],
      "metadata": {
        "id": "3RUCX9Iagda6"
      },
      "execution_count": null,
      "outputs": []
    },
    {
      "cell_type": "code",
      "source": [],
      "metadata": {
        "id": "W62U35M9gdW4"
      },
      "execution_count": null,
      "outputs": []
    },
    {
      "cell_type": "code",
      "source": [],
      "metadata": {
        "id": "2ldAbi9mgdT4"
      },
      "execution_count": null,
      "outputs": []
    },
    {
      "cell_type": "code",
      "source": [],
      "metadata": {
        "id": "XN36UIq3gdQI"
      },
      "execution_count": null,
      "outputs": []
    },
    {
      "cell_type": "markdown",
      "metadata": {
        "collapsed": false,
        "id": "LCp-W7XgenmH"
      },
      "source": [
        "###  1.5 Data Standardization and Scaling"
      ]
    },
    {
      "cell_type": "code",
      "execution_count": null,
      "metadata": {
        "id": "FHrPxa_WenmI"
      },
      "outputs": [],
      "source": [
        "# from sklearn.preprocessing import StandardScaler\n",
        "#sc = StandardScaler()\n",
        "#Xsc = sc.fit_transform(Xtrain)\n"
      ]
    },
    {
      "cell_type": "code",
      "source": [
        "X34 = df[['X1','X2']]"
      ],
      "metadata": {
        "id": "ulfjPNRzgru4"
      },
      "execution_count": null,
      "outputs": []
    },
    {
      "cell_type": "code",
      "source": [],
      "metadata": {
        "id": "_o2UvDzcA8LN"
      },
      "execution_count": null,
      "outputs": []
    },
    {
      "cell_type": "code",
      "source": [
        "y = df[['Y']]"
      ],
      "metadata": {
        "id": "XPBhvUJRgrrI"
      },
      "execution_count": null,
      "outputs": []
    },
    {
      "cell_type": "code",
      "source": [
        "mLR.fit(X34,y)\n",
        "mLR.score(X34,y)"
      ],
      "metadata": {
        "id": "PaXKhlrSgrm1"
      },
      "execution_count": null,
      "outputs": []
    },
    {
      "cell_type": "code",
      "source": [],
      "metadata": {
        "id": "ETLvWYaIgrit"
      },
      "execution_count": null,
      "outputs": []
    },
    {
      "cell_type": "markdown",
      "metadata": {
        "collapsed": false,
        "id": "eORSL8llenmJ"
      },
      "source": [
        "model ตัวไหนมีประสิทธิภาพดีกว่ากัน ???"
      ]
    },
    {
      "cell_type": "code",
      "execution_count": null,
      "metadata": {
        "id": "WGatmYbgenmQ"
      },
      "outputs": [],
      "source": []
    }
  ],
  "metadata": {
    "kernelspec": {
      "argv": [
        "/usr/bin/python3",
        "-m",
        "ipykernel",
        "--HistoryManager.enabled=False",
        "--matplotlib=inline",
        "-c",
        "%config InlineBackend.figure_formats = set(['retina'])\nimport matplotlib; matplotlib.rcParams['figure.figsize'] = (12, 7)",
        "-f",
        "{connection_file}"
      ],
      "display_name": "Python 3 (system-wide)",
      "env": {},
      "language": "python",
      "metadata": {
        "cocalc": {
          "description": "Python 3 programming language",
          "priority": 100,
          "url": "https://www.python.org/"
        }
      },
      "name": "python3",
      "resource_dir": "/ext/jupyter/kernels/python3"
    },
    "language_info": {
      "codemirror_mode": {
        "name": "ipython",
        "version": 3
      },
      "file_extension": ".py",
      "mimetype": "text/x-python",
      "name": "python",
      "nbconvert_exporter": "python",
      "pygments_lexer": "ipython3",
      "version": "3.10.12"
    },
    "nbgrader": {
      "__altered": false,
      "__hash": -341060574,
      "_root": {
        "entries": [
          [
            "size",
            6
          ],
          [
            "_root",
            {
              "entries": [
                [
                  "size",
                  1
                ],
                [
                  "_root",
                  {
                    "entries": [
                      [
                        "cocalc_minimal_stubs",
                        false
                      ]
                    ],
                    "ownerID": {}
                  }
                ],
                [
                  "__ownerID",
                  null
                ],
                [
                  "__hash",
                  -335098374
                ],
                [
                  "__altered",
                  false
                ],
                [
                  "cocalc_minimal_stubs",
                  false
                ]
              ],
              "ownerID": {}
            }
          ],
          [
            "__ownerID",
            null
          ],
          [
            "__hash",
            633336276
          ],
          [
            "__altered",
            false
          ],
          [
            "cocalc_minimal_stubs",
            false
          ]
        ],
        "ownerID": {}
      },
      "cocalc_minimal_stubs": false,
      "size": 6
    },
    "colab": {
      "provenance": [],
      "include_colab_link": true
    }
  },
  "nbformat": 4,
  "nbformat_minor": 0
}