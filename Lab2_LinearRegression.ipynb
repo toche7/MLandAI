{
  "cells": [
    {
      "cell_type": "markdown",
      "metadata": {
        "id": "view-in-github",
        "colab_type": "text"
      },
      "source": [
        "<a href=\"https://colab.research.google.com/github/toche7/MLwithPython/blob/main/Lab2_LinearRegression.ipynb\" target=\"_parent\"><img src=\"https://colab.research.google.com/assets/colab-badge.svg\" alt=\"Open In Colab\"/></a>"
      ]
    },
    {
      "cell_type": "markdown",
      "metadata": {
        "collapsed": false,
        "id": "Z6waUtwAu6yn"
      },
      "source": [
        "# Lab 2:  Linear Regression\n",
        "verison 002"
      ]
    },
    {
      "cell_type": "markdown",
      "metadata": {
        "collapsed": false,
        "id": "8mz8AU0yYeXv"
      },
      "source": [
        "## 1. Example of using SKlearn for model development"
      ]
    },
    {
      "cell_type": "markdown",
      "metadata": {
        "collapsed": false,
        "id": "B1IZbGHpYeXw"
      },
      "source": [
        "https://scikit-learn.org/stable/modules/generated/sklearn.linear_model.LinearRegression.html#sklearn.linear_model.LinearRegression\n"
      ]
    },
    {
      "cell_type": "markdown",
      "metadata": {
        "collapsed": false,
        "nbgrader": {
          "grade": false,
          "grade_id": "c4785d",
          "locked": true,
          "schema_version": 3,
          "solution": false,
          "task": false
        },
        "id": "lnLmAbM9YeXw"
      },
      "source": [
        "```\n",
        "from sklearn.linear_model import LinearRegression\n",
        "reg = LinearRegression()\n",
        "reg.fit(X, y)\n",
        "```\n",
        "\n"
      ]
    },
    {
      "cell_type": "markdown",
      "metadata": {
        "collapsed": false,
        "id": "eWkBJWXzYeXw"
      },
      "source": [
        "| Method | Description |\n",
        "| ------------|------------ |\n",
        "| fit(X, y ) | Fit linear model. |\n",
        "| predict(X) | Predict using the linear model. |\n",
        "| score(X, y) | Return the coefficient of determination of the prediction.|\n",
        "\n"
      ]
    },
    {
      "cell_type": "markdown",
      "metadata": {
        "collapsed": false,
        "id": "Cme7PW_hYeXx"
      },
      "source": [
        "### 1.1 Data must be correct format\n",
        "\n"
      ]
    },
    {
      "cell_type": "markdown",
      "metadata": {
        "collapsed": false,
        "id": "sTzZHMjEYeXy"
      },
      "source": [
        "เนื่องจากการทำนาย X จะเป็นข้อมูลที่ประกอบไปด้วยหลาย feature ได้ นั้นคือ 1 recorded จะประกอบไปด้วยหลายคอลัมน์ได้\n",
        "ส่วนของ y นั้นจะไปประกอบไปด้วยแค่หนึ่งคอลัมน์\n",
        "\n",
        "ด้วยเหตุนี้\n",
        "\n",
        "1. X จะต้องเป็นของมูลระดับ 2 มิติ\n",
        "2. y จะเป็นของมูลแบบมิติเดียวได้"
      ]
    },
    {
      "cell_type": "code",
      "execution_count": null,
      "metadata": {
        "id": "TWDX7ivYYeXy"
      },
      "outputs": [],
      "source": [
        "X = [[0, 0, 1], [1, 1, 2], [2, 2, 3]]\n",
        "y =  [0, 1, 2]"
      ]
    },
    {
      "cell_type": "code",
      "source": [],
      "metadata": {
        "id": "dNke-EioIfW2"
      },
      "execution_count": null,
      "outputs": []
    },
    {
      "cell_type": "code",
      "source": [],
      "metadata": {
        "id": "J-qEsQIZIfTa"
      },
      "execution_count": null,
      "outputs": []
    },
    {
      "cell_type": "markdown",
      "metadata": {
        "collapsed": false,
        "id": "gFwuRNaQYeXz"
      },
      "source": [
        "### 1.2 Create model object from a class"
      ]
    },
    {
      "cell_type": "markdown",
      "metadata": {
        "collapsed": false,
        "id": "lvVHoEHlYeX0"
      },
      "source": [
        "ก่อนสร้าง model  จะต้องมีการสร้าง object ที่มาจาก class model ที่เราต้องการเช่น Linear Regression เราก็ต้องสร้าง object ขึ้นมาดังนี้"
      ]
    },
    {
      "cell_type": "code",
      "execution_count": null,
      "metadata": {
        "id": "BlV04UdhYeX0"
      },
      "outputs": [],
      "source": [
        "from sklearn import linear_model\n",
        "reg = linear_model.LinearRegression()"
      ]
    },
    {
      "cell_type": "markdown",
      "metadata": {
        "collapsed": false,
        "id": "TX_5zfxIYeX0"
      },
      "source": [
        "### 1.3 Fit model with train set"
      ]
    },
    {
      "cell_type": "markdown",
      "metadata": {
        "collapsed": false,
        "id": "LDeNyTgAYeX0"
      },
      "source": [
        "เมื่อสร้าง object แล้วเราก็นำไป Training เพื่อหาค่าสัมประสิทธิ์ หรือ weight ของ model ใน library ของ python จะใช้คำว่า fit แทน Training"
      ]
    },
    {
      "cell_type": "code",
      "execution_count": null,
      "metadata": {
        "id": "sa60Aju2YeX0"
      },
      "outputs": [],
      "source": [
        "reg.fit(X,y)\n",
        "reg.coef_"
      ]
    },
    {
      "cell_type": "code",
      "execution_count": null,
      "metadata": {
        "id": "Imvd-f2gYeX1"
      },
      "outputs": [],
      "source": [
        "reg.intercept_"
      ]
    },
    {
      "cell_type": "code",
      "source": [],
      "metadata": {
        "id": "jPtt8D1zImba"
      },
      "execution_count": null,
      "outputs": []
    },
    {
      "cell_type": "code",
      "source": [],
      "metadata": {
        "id": "wg12pP-hImXN"
      },
      "execution_count": null,
      "outputs": []
    },
    {
      "cell_type": "code",
      "source": [],
      "metadata": {
        "id": "FiUiuOESImTt"
      },
      "execution_count": null,
      "outputs": []
    },
    {
      "cell_type": "markdown",
      "metadata": {
        "collapsed": false,
        "id": "G7KAJ_F9YeX1"
      },
      "source": [
        "### 1.4 Apply model with new data"
      ]
    },
    {
      "cell_type": "markdown",
      "metadata": {
        "collapsed": false,
        "id": "-23D1pxGYeX2"
      },
      "source": [
        "หลังจากผ่านการฝึกแล้วสามารถนำ model ไปทำนายค่าต่างๆ"
      ]
    },
    {
      "cell_type": "code",
      "execution_count": null,
      "metadata": {
        "id": "T8wPu-IbYeX2"
      },
      "outputs": [],
      "source": [
        "reg.predict([[0,0,1]])"
      ]
    },
    {
      "cell_type": "code",
      "execution_count": null,
      "metadata": {
        "id": "qC2GaDuwYeX2"
      },
      "outputs": [],
      "source": [
        "reg.predict(X)"
      ]
    },
    {
      "cell_type": "code",
      "source": [],
      "metadata": {
        "id": "hnkKp93BInyY"
      },
      "execution_count": null,
      "outputs": []
    },
    {
      "cell_type": "code",
      "source": [],
      "metadata": {
        "id": "2CF3ev6_InlG"
      },
      "execution_count": null,
      "outputs": []
    },
    {
      "cell_type": "code",
      "source": [],
      "metadata": {
        "id": "ggpM2zenInbc"
      },
      "execution_count": null,
      "outputs": []
    },
    {
      "cell_type": "markdown",
      "metadata": {
        "collapsed": false,
        "id": "aDfArJvzYeX2"
      },
      "source": [
        "### 1.5 Score the model performance"
      ]
    },
    {
      "cell_type": "markdown",
      "metadata": {
        "collapsed": false,
        "id": "qCQSCfIFYeX3"
      },
      "source": [
        "การวัดประสิทธิภาพของ model สามารถทำด้วยการใช้คำสั่ง score ซึ่งจะขึ้นอยู่กับ model ด้วยว่าเป็นโมเดลชนิดไหนการเรียกคำสั่งนี้ก็จะปรับไปตาม model เช่น score ของ Linear Regression ก็จะได้เป็นค่า  $R^2$ ของ model\n"
      ]
    },
    {
      "cell_type": "code",
      "execution_count": null,
      "metadata": {
        "id": "zUDlEbtxYeX3"
      },
      "outputs": [],
      "source": [
        "reg.score(X,y)"
      ]
    },
    {
      "cell_type": "code",
      "execution_count": null,
      "metadata": {
        "id": "NIL_mfSaYeX3"
      },
      "outputs": [],
      "source": []
    },
    {
      "cell_type": "code",
      "execution_count": null,
      "metadata": {
        "id": "fBVFhtidYeX3"
      },
      "outputs": [],
      "source": []
    },
    {
      "cell_type": "code",
      "execution_count": null,
      "metadata": {
        "id": "HNDLIJ6mYeX3"
      },
      "outputs": [],
      "source": []
    },
    {
      "cell_type": "markdown",
      "metadata": {
        "collapsed": false,
        "id": "6gDxl408YeX3"
      },
      "source": [
        "## 2. Air Plan Fuel Cost Example"
      ]
    },
    {
      "cell_type": "markdown",
      "metadata": {
        "collapsed": false,
        "id": "8lxMoSzWYeX3"
      },
      "source": [
        "### 2.1 Data set"
      ]
    },
    {
      "cell_type": "code",
      "execution_count": null,
      "metadata": {
        "id": "gxgq0VHGYeX4"
      },
      "outputs": [],
      "source": [
        "x = [61, 63, 67, 69, 70, 74, 76, 81, 86, 91,95,97]\n",
        "y = [4.28, 4.08, 4.42, 4.17, 4.48, 4.3, 4.82, 4.7, 5.11, 5.13, 5.64, 5.56]"
      ]
    },
    {
      "cell_type": "code",
      "source": [],
      "metadata": {
        "id": "pNKl7X3HIcfy"
      },
      "execution_count": null,
      "outputs": []
    },
    {
      "cell_type": "code",
      "source": [],
      "metadata": {
        "id": "rnh3Kmg2Iccl"
      },
      "execution_count": null,
      "outputs": []
    },
    {
      "cell_type": "code",
      "source": [],
      "metadata": {
        "id": "WRooxPXFIcYH"
      },
      "execution_count": null,
      "outputs": []
    },
    {
      "cell_type": "code",
      "execution_count": null,
      "metadata": {
        "id": "jqd52E8VYeX4"
      },
      "outputs": [],
      "source": [
        "import matplotlib.pyplot as plt\n",
        "\n",
        "plt.scatter(x,y)"
      ]
    },
    {
      "cell_type": "markdown",
      "metadata": {
        "collapsed": false,
        "id": "YqrEBmxdYeX4"
      },
      "source": [
        "### 2.2 Create model object"
      ]
    },
    {
      "cell_type": "code",
      "execution_count": null,
      "metadata": {
        "id": "f_zu12zeYeX4"
      },
      "outputs": [],
      "source": [
        "from sklearn import linear_model\n",
        "reg1 = linear_model.LinearRegression()"
      ]
    },
    {
      "cell_type": "code",
      "source": [],
      "metadata": {
        "id": "y1B5F_BtIdQZ"
      },
      "execution_count": null,
      "outputs": []
    },
    {
      "cell_type": "code",
      "source": [],
      "metadata": {
        "id": "ih4qkvuBIdMz"
      },
      "execution_count": null,
      "outputs": []
    },
    {
      "cell_type": "markdown",
      "metadata": {
        "collapsed": false,
        "id": "0lh2grovYeX4"
      },
      "source": [
        "### 2.3 Prepare data for model training"
      ]
    },
    {
      "cell_type": "code",
      "execution_count": null,
      "metadata": {
        "id": "GW-QaDTFYeX4"
      },
      "outputs": [],
      "source": [
        "import numpy as np"
      ]
    },
    {
      "cell_type": "code",
      "execution_count": null,
      "metadata": {
        "id": "LcvkEeyQYeX4"
      },
      "outputs": [],
      "source": [
        "X =  np.array(x).reshape(-1,1)"
      ]
    },
    {
      "cell_type": "code",
      "execution_count": null,
      "metadata": {
        "id": "I7wZYn_XYeX5"
      },
      "outputs": [],
      "source": [
        "X"
      ]
    },
    {
      "cell_type": "markdown",
      "metadata": {
        "collapsed": false,
        "id": "A5TO3w55YeX5"
      },
      "source": [
        "### 2.4 Model training"
      ]
    },
    {
      "cell_type": "code",
      "execution_count": null,
      "metadata": {
        "id": "F0CVUnKuYeX5"
      },
      "outputs": [],
      "source": [
        "reg1.fit(X,y)"
      ]
    },
    {
      "cell_type": "code",
      "execution_count": null,
      "metadata": {
        "id": "cV3arI-OYeX5"
      },
      "outputs": [],
      "source": [
        "reg1.coef_"
      ]
    },
    {
      "cell_type": "code",
      "execution_count": null,
      "metadata": {
        "id": "WaPRMWL3YeX5"
      },
      "outputs": [],
      "source": [
        "reg1.intercept_"
      ]
    },
    {
      "cell_type": "markdown",
      "metadata": {
        "collapsed": false,
        "id": "g3GPyp-XYeX5"
      },
      "source": [
        "### 2.5 Apply model with some data"
      ]
    },
    {
      "cell_type": "code",
      "execution_count": null,
      "metadata": {
        "id": "sQNtrJENYeX6"
      },
      "outputs": [],
      "source": [
        "reg1.predict(X)"
      ]
    },
    {
      "cell_type": "code",
      "execution_count": null,
      "metadata": {
        "id": "MhUOo3VoYeX6"
      },
      "outputs": [],
      "source": [
        "yhat = reg1.predict(X)"
      ]
    },
    {
      "cell_type": "code",
      "execution_count": null,
      "metadata": {
        "id": "CLv6Mu88YeX6"
      },
      "outputs": [],
      "source": [
        "plt.scatter(x,y)\n",
        "plt.plot(x,yhat,'r');\n"
      ]
    },
    {
      "cell_type": "code",
      "source": [],
      "metadata": {
        "id": "2WAZRcgGIuXU"
      },
      "execution_count": null,
      "outputs": []
    },
    {
      "cell_type": "code",
      "source": [],
      "metadata": {
        "id": "lGNUJtxOIuTH"
      },
      "execution_count": null,
      "outputs": []
    },
    {
      "cell_type": "markdown",
      "metadata": {
        "collapsed": false,
        "id": "0D4GvszYYeX6"
      },
      "source": [
        "### 2.6 Performance evaluation"
      ]
    },
    {
      "cell_type": "code",
      "execution_count": null,
      "metadata": {
        "id": "pgreH0uKYeX6"
      },
      "outputs": [],
      "source": [
        "reg1.score(X,y)"
      ]
    },
    {
      "cell_type": "code",
      "execution_count": null,
      "metadata": {
        "id": "CoDQ5ou4YeX6"
      },
      "outputs": [],
      "source": []
    },
    {
      "cell_type": "code",
      "execution_count": null,
      "metadata": {
        "id": "5sQeK2kcYeX-"
      },
      "outputs": [],
      "source": []
    },
    {
      "cell_type": "markdown",
      "metadata": {
        "collapsed": false,
        "id": "hONQ2tqVYeX-"
      },
      "source": [
        "## Exercise 1"
      ]
    },
    {
      "cell_type": "markdown",
      "metadata": {
        "collapsed": false,
        "id": "w2eSuuUJYeX-"
      },
      "source": [
        "จากข้อมูลต่อไปนี้จงสร้างแบบจำลองที่เป็น Linear Regression"
      ]
    },
    {
      "cell_type": "code",
      "execution_count": null,
      "metadata": {
        "id": "3_se0K6kYeX-"
      },
      "outputs": [],
      "source": [
        "import numpy as np\n",
        "import pandas as pd\n",
        "import matplotlib.pyplot as plt"
      ]
    },
    {
      "cell_type": "code",
      "execution_count": null,
      "metadata": {
        "id": "-F_VkdIhYeX-"
      },
      "outputs": [],
      "source": [
        "df = pd.read_csv(\"https://raw.githubusercontent.com/toche7/DataSets/main/sale.txt\", header = None)\n",
        "#df = pd.read_csv(\"ex1data1.txt\", header = None)\n",
        "df.head()"
      ]
    },
    {
      "cell_type": "code",
      "execution_count": null,
      "metadata": {
        "id": "ieODlFXxYeX-"
      },
      "outputs": [],
      "source": [
        "df.columns = ['population','sale']"
      ]
    },
    {
      "cell_type": "code",
      "execution_count": null,
      "metadata": {
        "id": "bATFS09dYeX-"
      },
      "outputs": [],
      "source": [
        "df"
      ]
    },
    {
      "cell_type": "code",
      "execution_count": null,
      "metadata": {
        "id": "EER6YUxUYeX_"
      },
      "outputs": [],
      "source": [
        "plt.scatter(df.population, df.sale)\n",
        "plt.xlabel('Population')\n",
        "plt.ylabel('Sale')"
      ]
    },
    {
      "cell_type": "code",
      "execution_count": null,
      "metadata": {
        "id": "pZF9OIWiYeX_"
      },
      "outputs": [],
      "source": [
        "X = df.population\n",
        "y = df.sale"
      ]
    },
    {
      "cell_type": "code",
      "execution_count": null,
      "metadata": {
        "id": "V5GTvhjnYeX_"
      },
      "outputs": [],
      "source": [
        "X"
      ]
    },
    {
      "cell_type": "code",
      "execution_count": null,
      "metadata": {
        "id": "yUiwFuDaYeX_"
      },
      "outputs": [],
      "source": [
        "y"
      ]
    },
    {
      "cell_type": "markdown",
      "metadata": {
        "collapsed": false,
        "id": "u2CL46hEYeX_"
      },
      "source": [
        "#### Ex 1.1 Create Model Object\n",
        "สร้าง Object ของ Model Linear Regression ใช้ชื่อว่า  regEx1"
      ]
    },
    {
      "cell_type": "code",
      "execution_count": null,
      "metadata": {
        "nbgrader": {
          "grade": false,
          "grade_id": "b56476",
          "locked": false,
          "schema_version": 3,
          "solution": true,
          "task": false
        },
        "id": "Yrq3VUOOYeX_"
      },
      "outputs": [],
      "source": [
        "from sklearn.linear_model import LinearRegression\n",
        "regEx1 = None\n",
        "### BEGIN SOLUTION\n",
        "regEx1 = LinearRegression()\n",
        "### END SOLUTION"
      ]
    },
    {
      "cell_type": "code",
      "execution_count": null,
      "metadata": {
        "nbgrader": {
          "grade": true,
          "grade_id": "6149cd",
          "locked": true,
          "points": 1,
          "schema_version": 3,
          "solution": false,
          "task": false
        },
        "id": "7cXmftNUYeX_"
      },
      "outputs": [],
      "source": [
        "# [Modify the tests below for your own problem]\n",
        "# Check that squares returns the correct output for several inputs:\n",
        "from nose.tools import assert_equal\n",
        "assert_equal(isinstance(regEx1, LinearRegression), True)"
      ]
    },
    {
      "cell_type": "markdown",
      "metadata": {
        "collapsed": false,
        "id": "sO4T0A-iYeX_"
      },
      "source": [
        "#### Ex 1.2 Train Model\n",
        "1. เตรียมข้อมูล X และ y เพื่อการ Train model\n",
        "2. ทำการ Train Model"
      ]
    },
    {
      "cell_type": "code",
      "execution_count": null,
      "metadata": {
        "nbgrader": {
          "grade": false,
          "grade_id": "a16725",
          "locked": false,
          "schema_version": 3,
          "solution": true,
          "task": false
        },
        "id": "gNXUkGsDYeX_"
      },
      "outputs": [],
      "source": [
        "X = None\n",
        "### BEGIN SOLUTION\n",
        "X = df[['population']]\n",
        "### END SOLUTION\n"
      ]
    },
    {
      "cell_type": "code",
      "execution_count": null,
      "metadata": {
        "nbgrader": {
          "grade": false,
          "grade_id": "827e20",
          "locked": false,
          "schema_version": 3,
          "solution": true,
          "task": false
        },
        "id": "oW3vsPHMYeX_"
      },
      "outputs": [],
      "source": [
        "y = None\n",
        "### BEGIN SOLUTION\n",
        "y = df.sale\n",
        "### END SOLUTION\n"
      ]
    },
    {
      "cell_type": "code",
      "execution_count": null,
      "metadata": {
        "id": "qAtIeqYyYeX_"
      },
      "outputs": [],
      "source": [
        "regEx1.fit(X,y)"
      ]
    },
    {
      "cell_type": "code",
      "execution_count": null,
      "metadata": {
        "scrolled": true,
        "id": "EbkxU8ksYeX_"
      },
      "outputs": [],
      "source": [
        "regEx1.coef_"
      ]
    },
    {
      "cell_type": "code",
      "execution_count": null,
      "metadata": {
        "id": "i9uer3UpYeYA"
      },
      "outputs": [],
      "source": [
        "regEx1.intercept_"
      ]
    },
    {
      "cell_type": "code",
      "execution_count": null,
      "metadata": {
        "nbgrader": {
          "grade": true,
          "grade_id": "3fbe20",
          "locked": true,
          "points": 1,
          "schema_version": 3,
          "solution": false,
          "task": false
        },
        "id": "I8uohia7YeYA"
      },
      "outputs": [],
      "source": [
        "# [Modify the tests below for your own problem]\n",
        "# Check that squares returns the correct output for several inputs:\n",
        "from numpy.testing import assert_almost_equal\n",
        "assert_almost_equal(regEx1.coef_, np.array([1.19303364]), decimal=4)\n"
      ]
    },
    {
      "cell_type": "markdown",
      "metadata": {
        "collapsed": false,
        "id": "bNSFatYKYeYA"
      },
      "source": [
        "#### Ex 1.3  Prediction and Score\n",
        "จงสร้างค่าทำนายและวัดประสิทธิภาพด้วยค่า $R^2$"
      ]
    },
    {
      "cell_type": "code",
      "execution_count": null,
      "metadata": {
        "nbgrader": {
          "grade": false,
          "grade_id": "4d308d",
          "locked": false,
          "schema_version": 3,
          "solution": true,
          "task": false
        },
        "id": "8M0XL9OxYeYA"
      },
      "outputs": [],
      "source": [
        "yhat =  None\n",
        "### BEGIN SOLUTION\n",
        "yhat = regEx1.predict(X)\n",
        "### END SOLUTION"
      ]
    },
    {
      "cell_type": "code",
      "execution_count": null,
      "metadata": {
        "id": "Nz2BvKpWYeYA"
      },
      "outputs": [],
      "source": [
        "plt.scatter(X,y)\n",
        "plt.plot(X,yhat,'r')"
      ]
    },
    {
      "cell_type": "code",
      "execution_count": null,
      "metadata": {
        "nbgrader": {
          "grade": false,
          "grade_id": "e69ed9",
          "locked": false,
          "schema_version": 3,
          "solution": true,
          "task": false
        },
        "id": "YkRgfGLdYeYA"
      },
      "outputs": [],
      "source": [
        "R2 = None\n",
        "### BEGIN SOLUTION\n",
        "R2 = regEx1.score(X,y)\n",
        "### END SOLUTION\n"
      ]
    },
    {
      "cell_type": "code",
      "execution_count": null,
      "metadata": {
        "id": "FKIgjSbkYeYA"
      },
      "outputs": [],
      "source": [
        "R2"
      ]
    },
    {
      "cell_type": "code",
      "execution_count": null,
      "metadata": {
        "nbgrader": {
          "grade": true,
          "grade_id": "14685a",
          "locked": true,
          "points": 1,
          "remove": false,
          "schema_version": 3,
          "solution": false,
          "task": false
        },
        "id": "g3VrF-4SYeYA"
      },
      "outputs": [],
      "source": [
        "# [Modify the tests below for your own problem]\n",
        "# Check that squares returns the correct output for several inputs:\n",
        "from numpy.testing import assert_almost_equal\n",
        "assert_almost_equal(R2, 0.7020315537841397, decimal=5)"
      ]
    },
    {
      "cell_type": "code",
      "execution_count": null,
      "metadata": {
        "id": "rZ3QHnVXYeYA"
      },
      "outputs": [],
      "source": []
    },
    {
      "cell_type": "code",
      "execution_count": null,
      "metadata": {
        "id": "0wjYbDnVYeYA"
      },
      "outputs": [],
      "source": []
    }
  ],
  "metadata": {
    "colab": {
      "provenance": [],
      "include_colab_link": true
    },
    "kernelspec": {
      "argv": [
        "/usr/bin/python3",
        "-m",
        "ipykernel",
        "--HistoryManager.enabled=False",
        "--matplotlib=inline",
        "-c",
        "%config InlineBackend.figure_formats = set(['retina'])\nimport matplotlib; matplotlib.rcParams['figure.figsize'] = (12, 7)",
        "-f",
        "{connection_file}"
      ],
      "display_name": "Python 3 (system-wide)",
      "env": {},
      "language": "python",
      "metadata": {
        "cocalc": {
          "description": "Python 3 programming language",
          "priority": 100,
          "url": "https://www.python.org/"
        }
      },
      "name": "python3",
      "resource_dir": "/ext/jupyter/kernels/python3"
    },
    "language_info": {
      "codemirror_mode": {
        "name": "ipython",
        "version": 3
      },
      "file_extension": ".py",
      "mimetype": "text/x-python",
      "name": "python",
      "nbconvert_exporter": "python",
      "pygments_lexer": "ipython3",
      "version": "3.10.12"
    },
    "nbgrader": {
      "__altered": false,
      "__hash": -335098374,
      "_root": {
        "entries": [
          [
            "cocalc_minimal_stubs",
            false
          ]
        ],
        "ownerID": {}
      },
      "cocalc_minimal_stubs": false,
      "size": 1
    }
  },
  "nbformat": 4,
  "nbformat_minor": 0
}